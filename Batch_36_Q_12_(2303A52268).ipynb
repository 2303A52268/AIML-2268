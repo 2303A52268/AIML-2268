{
  "nbformat": 4,
  "nbformat_minor": 0,
  "metadata": {
    "colab": {
      "provenance": [],
      "authorship_tag": "ABX9TyNAd5d1NB6R/vbrgU48dAA3",
      "include_colab_link": true
    },
    "kernelspec": {
      "name": "python3",
      "display_name": "Python 3"
    },
    "language_info": {
      "name": "python"
    }
  },
  "cells": [
    {
      "cell_type": "markdown",
      "metadata": {
        "id": "view-in-github",
        "colab_type": "text"
      },
      "source": [
        "<a href=\"https://colab.research.google.com/github/2303A52268/AIML-2268/blob/main/Batch_36_Q_12_(2303A52268).ipynb\" target=\"_parent\"><img src=\"https://colab.research.google.com/assets/colab-badge.svg\" alt=\"Open In Colab\"/></a>"
      ]
    },
    {
      "cell_type": "markdown",
      "source": [
        "#**HT No-2303A52268**"
      ],
      "metadata": {
        "id": "VqoP361uApdP"
      }
    },
    {
      "cell_type": "markdown",
      "source": [
        "#**Batch no-36**"
      ],
      "metadata": {
        "id": "H2frZn86AokQ"
      }
    },
    {
      "cell_type": "markdown",
      "source": [
        "#**Question No-12**"
      ],
      "metadata": {
        "id": "025j5MJEAohF"
      }
    },
    {
      "cell_type": "markdown",
      "source": [
        "**Prediction of Air Quality in Italian Cities**\n",
        "\n",
        "1. Identify the top 5 reasons for air quality\n",
        "\n",
        "2. Identify the Day of week with most air quality issues\n",
        "\n",
        "3. Find the max and min air quality levels\n",
        "\n",
        "4. Identify the highest and lowest temperatures of air quality\n",
        "\n",
        "5. Identify the highest educational qualification of the employees.\n",
        "\n",
        "Air Quality\n",
        "\n",
        "UCI ML Repo\n",
        "\n",
        "6. Apply either Classification Model or Clustering Model to evaluate the dataset"
      ],
      "metadata": {
        "id": "ZRVn6LxpHEAo"
      }
    },
    {
      "cell_type": "markdown",
      "source": [
        "**Load and Inspect the Dataset**"
      ],
      "metadata": {
        "id": "pAt5_odLFbbK"
      }
    },
    {
      "cell_type": "code",
      "execution_count": null,
      "metadata": {
        "colab": {
          "base_uri": "https://localhost:8080/"
        },
        "id": "geogQRBUAPpm",
        "outputId": "0463efb5-3b43-4f54-a3c4-fe61580ccbbe"
      },
      "outputs": [
        {
          "output_type": "stream",
          "name": "stdout",
          "text": [
            "        Date      Time  CO(GT)  PT08.S1(CO)  NMHC(GT)   C6H6(GT)  \\\n",
            "0 2004-03-10  18:00:00     2.6      1360.00       150  11.881723   \n",
            "1 2004-03-10  19:00:00     2.0      1292.25       112   9.397165   \n",
            "2 2004-03-10  20:00:00     2.2      1402.00        88   8.997817   \n",
            "3 2004-03-10  21:00:00     2.2      1375.50        80   9.228796   \n",
            "4 2004-03-10  22:00:00     1.6      1272.25        51   6.518224   \n",
            "\n",
            "   PT08.S2(NMHC)  NOx(GT)  PT08.S3(NOx)  NO2(GT)  PT08.S4(NO2)  PT08.S5(O3)  \\\n",
            "0        1045.50    166.0       1056.25    113.0       1692.00      1267.50   \n",
            "1         954.75    103.0       1173.75     92.0       1558.75       972.25   \n",
            "2         939.25    131.0       1140.00    114.0       1554.50      1074.00   \n",
            "3         948.25    172.0       1092.00    122.0       1583.75      1203.25   \n",
            "4         835.50    131.0       1205.00    116.0       1490.00      1110.00   \n",
            "\n",
            "       T         RH        AH  \n",
            "0  13.60  48.875001  0.757754  \n",
            "1  13.30  47.700000  0.725487  \n",
            "2  11.90  53.975000  0.750239  \n",
            "3  11.00  60.000000  0.786713  \n",
            "4  11.15  59.575001  0.788794  \n"
          ]
        }
      ],
      "source": [
        "import pandas as pd\n",
        "\n",
        "# Load the dataset\n",
        "file_path = ('/content/AirQualityUCI.xlsx')  # Replace with the correct path in Colab\n",
        "air_quality_data = pd.read_excel(file_path, sheet_name='AirQualityUCI')\n",
        "\n",
        "# Display the first few rows to inspect the data\n",
        "print(air_quality_data.head())\n"
      ]
    },
    {
      "cell_type": "markdown",
      "source": [
        "**Data Cleaning and Feature Engineering**"
      ],
      "metadata": {
        "id": "c7B86hyKFkGm"
      }
    },
    {
      "cell_type": "code",
      "source": [
        "# Convert 'Date' column to datetime\n",
        "air_quality_data['Date'] = pd.to_datetime(air_quality_data['Date'], errors='coerce')\n",
        "\n",
        "# Extract the day of the week\n",
        "air_quality_data['DayOfWeek'] = air_quality_data['Date'].dt.day_name()\n",
        "\n",
        "# Replace invalid values (-200) with NaN for analysis\n",
        "air_quality_data.replace(-200, pd.NA, inplace=True)\n"
      ],
      "metadata": {
        "id": "ySY2qenKDSNq"
      },
      "execution_count": null,
      "outputs": []
    },
    {
      "cell_type": "markdown",
      "source": [
        "**Top 5 Factors Correlated with CO(GT)**"
      ],
      "metadata": {
        "id": "BzWBCEx1FzlZ"
      }
    },
    {
      "cell_type": "code",
      "source": [
        "# Calculate correlations with CO(GT)\n",
        "# Convert all numeric-looking columns to numeric, coercing errors\n",
        "for col in air_quality_data.columns:\n",
        "    if air_quality_data[col].dtype == 'object':  # Check if column is of type object\n",
        "        try:\n",
        "            air_quality_data[col] = pd.to_numeric(air_quality_data[col], errors='coerce')\n",
        "        except ValueError:\n",
        "            pass  # Skip columns that cannot be converted\n",
        "\n",
        "numeric_columns = air_quality_data.select_dtypes(include=['number'])  # Select only numeric columns\n",
        "correlations = numeric_columns.corr()['CO(GT)'].sort_values(ascending=False).head(6)\n",
        "print(\"Top 5 correlations with CO(GT):\\n\", correlations)"
      ],
      "metadata": {
        "colab": {
          "base_uri": "https://localhost:8080/"
        },
        "id": "IVEyIDLpDaU7",
        "outputId": "3513232c-6c7a-4c04-cfb9-393977b1568d"
      },
      "execution_count": null,
      "outputs": [
        {
          "output_type": "stream",
          "name": "stdout",
          "text": [
            "Top 5 correlations with CO(GT):\n",
            " CO(GT)           1.000000\n",
            "C6H6(GT)         0.931091\n",
            "PT08.S2(NMHC)    0.915519\n",
            "NMHC(GT)         0.889734\n",
            "PT08.S1(CO)      0.879292\n",
            "PT08.S5(O3)      0.854183\n",
            "Name: CO(GT), dtype: float64\n"
          ]
        }
      ]
    },
    {
      "cell_type": "markdown",
      "source": [
        "**Day of the Week with Most Air Quality Issues**"
      ],
      "metadata": {
        "id": "KHONxuZMGBMf"
      }
    },
    {
      "cell_type": "code",
      "source": [
        "# Find the day of the week with the highest average CO levels\n",
        "day_air_quality_issues = air_quality_data.groupby('DayOfWeek')['CO(GT)'].mean().sort_values(ascending=False)\n",
        "print(\"Average CO(GT) levels by day of the week:\\n\", day_air_quality_issues)\n"
      ],
      "metadata": {
        "colab": {
          "base_uri": "https://localhost:8080/"
        },
        "id": "-VaDDLJaEimk",
        "outputId": "2dd193ba-dcd2-4432-a5ba-1e1d21917d3f"
      },
      "execution_count": null,
      "outputs": [
        {
          "output_type": "stream",
          "name": "stdout",
          "text": [
            "Average CO(GT) levels by day of the week:\n",
            " Series([], Name: CO(GT), dtype: float64)\n"
          ]
        }
      ]
    },
    {
      "cell_type": "markdown",
      "source": [
        "**Max and Min Air Quality Levels**"
      ],
      "metadata": {
        "id": "4cK2KTMyGEop"
      }
    },
    {
      "cell_type": "code",
      "source": [
        "# Maximum and minimum CO(GT)\n",
        "max_co_level = air_quality_data['CO(GT)'].max()\n",
        "min_co_level = air_quality_data['CO(GT)'].min()\n",
        "print(\"Max CO(GT):\", max_co_level)\n",
        "print(\"Min CO(GT):\", min_co_level)\n"
      ],
      "metadata": {
        "colab": {
          "base_uri": "https://localhost:8080/"
        },
        "id": "HuvUTBArEklL",
        "outputId": "059bc577-11f1-4ee7-95eb-2e95186a9a8f"
      },
      "execution_count": null,
      "outputs": [
        {
          "output_type": "stream",
          "name": "stdout",
          "text": [
            "Max CO(GT): 11.9\n",
            "Min CO(GT): 0.1\n"
          ]
        }
      ]
    },
    {
      "cell_type": "markdown",
      "source": [
        "**Highest and Lowest Temperatures**"
      ],
      "metadata": {
        "id": "hYE9y762GHom"
      }
    },
    {
      "cell_type": "code",
      "source": [
        "# Maximum and minimum temperature\n",
        "max_temperature = air_quality_data['T'].max()\n",
        "min_temperature = air_quality_data['T'].min()\n",
        "print(\"Max Temperature:\", max_temperature)\n",
        "print(\"Min Temperature:\", min_temperature)\n"
      ],
      "metadata": {
        "colab": {
          "base_uri": "https://localhost:8080/"
        },
        "id": "OfnwseEoEnwa",
        "outputId": "8f5ffce1-5e31-4a20-8c3d-20af862ea0f3"
      },
      "execution_count": null,
      "outputs": [
        {
          "output_type": "stream",
          "name": "stdout",
          "text": [
            "Max Temperature: 44.60000038147\n",
            "Min Temperature: -1.8999999761581\n"
          ]
        }
      ]
    },
    {
      "cell_type": "markdown",
      "source": [
        "**Clustering or Classification Model**"
      ],
      "metadata": {
        "id": "yaPgjlBdGKry"
      }
    },
    {
      "cell_type": "code",
      "source": [
        "from sklearn.cluster import KMeans\n",
        "from sklearn.preprocessing import StandardScaler\n",
        "\n",
        "# Select features for clustering\n",
        "features = air_quality_data[['CO(GT)', 'NOx(GT)', 'NO2(GT)', 'T', 'RH']].dropna()\n",
        "\n",
        "# Standardize features\n",
        "scaler = StandardScaler()\n",
        "features_scaled = scaler.fit_transform(features)\n",
        "\n",
        "# Apply K-means clustering\n",
        "kmeans = KMeans(n_clusters=3, random_state=42)\n",
        "# Get cluster labels for the scaled features\n",
        "cluster_labels = kmeans.fit_predict(features_scaled)\n",
        "\n",
        "# Create a new DataFrame with the original index and cluster labels\n",
        "cluster_df = pd.DataFrame({'Cluster': cluster_labels}, index=features.index)\n",
        "\n",
        "# Merge the cluster labels back into the original DataFrame using the index\n",
        "air_quality_data = air_quality_data.merge(cluster_df, left_index=True, right_index=True, how='left')\n",
        "\n",
        "print(\"Cluster centers:\\n\", kmeans.cluster_centers_)"
      ],
      "metadata": {
        "colab": {
          "base_uri": "https://localhost:8080/"
        },
        "id": "Jo7YGRyWEsV9",
        "outputId": "581c9ad9-5146-42cf-bc82-00fb080f77b6"
      },
      "execution_count": null,
      "outputs": [
        {
          "output_type": "stream",
          "name": "stdout",
          "text": [
            "Cluster centers:\n",
            " [[-0.57640962 -0.44417968 -0.52773987 -0.47861842  0.52285796]\n",
            " [ 1.2395222   1.40378062  1.14577564 -0.47274687  0.38480176]\n",
            " [-0.11100112 -0.41637812 -0.10967735  1.0155135  -1.01229549]]\n"
          ]
        }
      ]
    }
  ]
}